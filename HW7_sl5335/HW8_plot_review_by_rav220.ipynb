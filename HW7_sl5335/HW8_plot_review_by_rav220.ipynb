{
 "cells": [
  {
   "cell_type": "markdown",
   "metadata": {},
   "source": [
    "#### Plot review for sl5335.\n",
    "\n",
    "Overall the plot looks great and you defintely are used some innovative ways of graphing out your stiry.  There's a good amount of detail to look into also.  There's a bit of a downside to that though.  I think can look a little dense. I would suggest breaking out the plot in separate ones or perhaps use wider bars to cover more space which might thereby give the chart a bit more room to breathe.  And since there a lot of granularity, I would also try using more subdued colors so the right things pop.\n",
    "\n",
    "Very cool plot.  I love the design and how it tells your story.\n",
    "\n",
    "Richard\n",
    "\n",
    "(sorry I could not place a visual of your plot on this review.  My machine is down and I'm working with seriously old one for now ;)"
   ]
  },
  {
   "cell_type": "code",
   "execution_count": null,
   "metadata": {
    "collapsed": true
   },
   "outputs": [],
   "source": []
  }
 ],
 "metadata": {
  "kernelspec": {
   "display_name": "PUI2016_Python2",
   "language": "python",
   "name": "pui2016_python2"
  },
  "language_info": {
   "codemirror_mode": {
    "name": "ipython",
    "version": 2
   },
   "file_extension": ".py",
   "mimetype": "text/x-python",
   "name": "python",
   "nbconvert_exporter": "python",
   "pygments_lexer": "ipython2",
   "version": "2.7.12"
  }
 },
 "nbformat": 4,
 "nbformat_minor": 0
}
